{
 "cells": [
  {
   "cell_type": "markdown",
   "id": "51cc7310399bcb98",
   "metadata": {
    "collapsed": false
   },
   "source": [
    "# Vietnamese Law Crawler"
   ]
  },
  {
   "cell_type": "markdown",
   "id": "1ea91400",
   "metadata": {},
   "source": [
    "This is a crawler for Vietnamese Law. It crawls data from [Thư viện pháp luật](https://thuvienphapluat.vn/) and [Cơ sở dữ liệu pháp luật Việt Nam](https://vbpl.vn/). The dataset is stored in `csv` format. The crawler is written in Mojo."
   ]
  }
 ],
 "metadata": {
  "kernelspec": {
   "display_name": "Python 3",
   "language": "python",
   "name": "python3"
  },
  "language_info": {
   "codemirror_mode": {
    "name": "ipython",
    "version": 2
   },
   "file_extension": ".py",
   "mimetype": "text/x-python",
   "name": "python",
   "nbconvert_exporter": "python",
   "pygments_lexer": "ipython2",
   "version": "2.7.6"
  }
 },
 "nbformat": 4,
 "nbformat_minor": 5
}
